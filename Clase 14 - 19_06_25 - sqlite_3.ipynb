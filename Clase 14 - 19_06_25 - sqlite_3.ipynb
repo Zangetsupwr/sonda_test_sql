{
 "cells": [
  {
   "cell_type": "code",
   "execution_count": 1,
   "id": "13d440aa",
   "metadata": {},
   "outputs": [],
   "source": [
    "import sqlite3\n",
    "import pandas as pd\n",
    "import matplotlib.pyplot as plt"
   ]
  },
  {
   "cell_type": "code",
   "execution_count": 2,
   "id": "cf9a59a9",
   "metadata": {},
   "outputs": [],
   "source": [
    "# Crea (o abre si ya existe) una base de datos llamada \"mi_base.db\".\n",
    "conn = sqlite3.connect(\"mi_base.db\")\n",
    "# Crea un cursor para ejecutar comandos SQL.\n",
    "cursor = conn.cursor()"
   ]
  },
  {
   "cell_type": "markdown",
   "id": "be1f2b49",
   "metadata": {},
   "source": [
    "Ejemplo 1"
   ]
  },
  {
   "cell_type": "code",
   "execution_count": 3,
   "id": "667bdfda",
   "metadata": {},
   "outputs": [
    {
     "name": "stdout",
     "output_type": "stream",
     "text": [
      "[(1, 'Ana Pérez', 'ana@example.com', '2025-06-19'), (2, 'Daniel Barnes', 'courtneylarson@example.com', '2025-03-08'), (3, 'William Wallace', 'jdavis@example.org', '2023-11-16'), (4, 'Jimmy Carter', 'eolson@example.com', '2024-07-29'), (5, 'Dr. Richard Parker', 'martinjeremiah@example.org', '2025-05-27'), (6, 'Alexandra Patterson', 'ubradley@example.net', '2024-01-24'), (7, 'Leslie Mitchell', 'vpaul@example.com', '2024-01-19'), (8, 'Eugene Colon', 'cmichael@example.net', '2025-06-05'), (9, 'Micheal Howard', 'frankzimmerman@example.com', '2024-11-09'), (10, 'Howard Odom', 'mitchell72@example.net', '2024-08-27')]\n"
     ]
    }
   ],
   "source": [
    "# Ejemplo 1.\n",
    "cursor.execute(\"\"\"\n",
    "SELECT * FROM usuarios\n",
    "LIMIT 10;\n",
    "\"\"\")\n",
    "print(cursor.fetchall())"
   ]
  },
  {
   "cell_type": "code",
   "execution_count": 4,
   "id": "ec6ad1cf",
   "metadata": {},
   "outputs": [],
   "source": [
    "# Visualizamos con pandas.\n",
    "cursor.execute(\"\"\"\n",
    "SELECT * FROM usuarios\n",
    "LIMIT 10;\n",
    "\"\"\")\n",
    "\n",
    "rows = cursor.fetchall()\n",
    "columns = [desc[0] for desc in cursor.description]\n",
    "\n",
    "df = pd.DataFrame(rows, columns=columns)"
   ]
  },
  {
   "cell_type": "code",
   "execution_count": 5,
   "id": "3b29bc54",
   "metadata": {},
   "outputs": [
    {
     "data": {
      "text/html": [
       "<div>\n",
       "<style scoped>\n",
       "    .dataframe tbody tr th:only-of-type {\n",
       "        vertical-align: middle;\n",
       "    }\n",
       "\n",
       "    .dataframe tbody tr th {\n",
       "        vertical-align: top;\n",
       "    }\n",
       "\n",
       "    .dataframe thead th {\n",
       "        text-align: right;\n",
       "    }\n",
       "</style>\n",
       "<table border=\"1\" class=\"dataframe\">\n",
       "  <thead>\n",
       "    <tr style=\"text-align: right;\">\n",
       "      <th></th>\n",
       "      <th>id</th>\n",
       "      <th>nombre</th>\n",
       "      <th>email</th>\n",
       "      <th>fecha_registro</th>\n",
       "    </tr>\n",
       "  </thead>\n",
       "  <tbody>\n",
       "    <tr>\n",
       "      <th>0</th>\n",
       "      <td>1</td>\n",
       "      <td>Ana Pérez</td>\n",
       "      <td>ana@example.com</td>\n",
       "      <td>2025-06-19</td>\n",
       "    </tr>\n",
       "    <tr>\n",
       "      <th>1</th>\n",
       "      <td>2</td>\n",
       "      <td>Daniel Barnes</td>\n",
       "      <td>courtneylarson@example.com</td>\n",
       "      <td>2025-03-08</td>\n",
       "    </tr>\n",
       "    <tr>\n",
       "      <th>2</th>\n",
       "      <td>3</td>\n",
       "      <td>William Wallace</td>\n",
       "      <td>jdavis@example.org</td>\n",
       "      <td>2023-11-16</td>\n",
       "    </tr>\n",
       "    <tr>\n",
       "      <th>3</th>\n",
       "      <td>4</td>\n",
       "      <td>Jimmy Carter</td>\n",
       "      <td>eolson@example.com</td>\n",
       "      <td>2024-07-29</td>\n",
       "    </tr>\n",
       "    <tr>\n",
       "      <th>4</th>\n",
       "      <td>5</td>\n",
       "      <td>Dr. Richard Parker</td>\n",
       "      <td>martinjeremiah@example.org</td>\n",
       "      <td>2025-05-27</td>\n",
       "    </tr>\n",
       "  </tbody>\n",
       "</table>\n",
       "</div>"
      ],
      "text/plain": [
       "   id              nombre                       email fecha_registro\n",
       "0   1           Ana Pérez             ana@example.com     2025-06-19\n",
       "1   2       Daniel Barnes  courtneylarson@example.com     2025-03-08\n",
       "2   3     William Wallace          jdavis@example.org     2023-11-16\n",
       "3   4        Jimmy Carter          eolson@example.com     2024-07-29\n",
       "4   5  Dr. Richard Parker  martinjeremiah@example.org     2025-05-27"
      ]
     },
     "execution_count": 5,
     "metadata": {},
     "output_type": "execute_result"
    }
   ],
   "source": [
    "df.head()"
   ]
  },
  {
   "cell_type": "code",
   "execution_count": 6,
   "id": "eec52cbf",
   "metadata": {},
   "outputs": [],
   "source": [
    "# Cerrar conexion.\n",
    "conn.close()"
   ]
  },
  {
   "cell_type": "markdown",
   "id": "54558c10",
   "metadata": {},
   "source": [
    "Ejemplo 2"
   ]
  },
  {
   "cell_type": "code",
   "execution_count": 7,
   "id": "44dcd3da",
   "metadata": {},
   "outputs": [],
   "source": [
    "# Ejemplo 2.\n",
    "\n",
    "# 1. Conexión a la base de datos.\n",
    "conn = sqlite3.connect(\"mi_base.db\")\n",
    "cursor = conn.cursor()\n",
    "\n",
    "# 2. Ejecutar query: traer toda la tabla ordenes.\n",
    "query = \"SELECT * FROM ordenes;\"\n",
    "cursor.execute(query)\n",
    "\n",
    "# 3. Convertir a DataFrame.\n",
    "rows = cursor.fetchall()\n",
    "columns = [desc[0] for desc in cursor.description]\n",
    "df = pd.DataFrame(rows, columns=columns)"
   ]
  },
  {
   "cell_type": "code",
   "execution_count": null,
   "id": "f578b384",
   "metadata": {},
   "outputs": [],
   "source": [
    "# 4. Convertir la columna 'fecha' a tipo datetime.\n",
    "df['fecha'] = pd.to_datetime(df['fecha'])\n",
    "# 5. Crear columna \"mes-año\".\n",
    "df['mes_año'] = df['fecha'].dt.to_period('M').astype(str)\n",
    "# 6. Agrupar por mes-año y sumar montos.\n",
    "ventas_mensuales = df.groupby('mes_año')['monto'].sum().reset_index()\n",
    "# 7. Ordenar por fecha real.\n",
    "ventas_mensuales['mes_año'] = pd.to_datetime(ventas_mensuales['mes_año'])\n",
    "ventas_mensuales = ventas_mensuales.sort_values('mes_año')"
   ]
  },
  {
   "cell_type": "code",
   "execution_count": null,
   "id": "5cfbf07f",
   "metadata": {},
   "outputs": [],
   "source": [
    "df.head()"
   ]
  },
  {
   "cell_type": "code",
   "execution_count": null,
   "id": "e1288662",
   "metadata": {},
   "outputs": [],
   "source": [
    "# Creamos carpeta de outputs y guardamos.\n",
    "df.to_csv(r\".\\output\\data\\df_ventas.csv\", index=False)"
   ]
  },
  {
   "cell_type": "code",
   "execution_count": null,
   "id": "6327649e",
   "metadata": {},
   "outputs": [],
   "source": [
    "# 8. Graficar.\n",
    "plt.figure(figsize=(10, 5))\n",
    "plt.plot(ventas_mensuales['mes_año'], ventas_mensuales['monto'], marker='o')\n",
    "plt.title('Evolución de ventas mensuales')\n",
    "plt.xlabel('Mes-Año')\n",
    "plt.ylabel('Total de ventas (S/)')\n",
    "plt.grid(True)\n",
    "plt.xticks(rotation=45)\n",
    "plt.tight_layout()\n",
    "# Guardar grafico.\n",
    "plt.savefig(r\".\\output\\bi\\ventas_mensuales.png\", dpi=300, bbox_inches='tight')\n",
    "# Mostrar grafico.\n",
    "plt.show()"
   ]
  },
  {
   "cell_type": "code",
   "execution_count": null,
   "id": "a6a5749c",
   "metadata": {},
   "outputs": [],
   "source": [
    "# 9. Cerrar conexión.\n",
    "conn.close()"
   ]
  },
  {
   "cell_type": "markdown",
   "id": "afe11b67",
   "metadata": {},
   "source": [
    "Ejemplo 3"
   ]
  },
  {
   "cell_type": "code",
   "execution_count": null,
   "id": "61cedbae",
   "metadata": {},
   "outputs": [],
   "source": [
    "# Ejemplo 3: usuarios registrados en 2025.\n",
    "\n",
    "# Conexión.\n",
    "conn = sqlite3.connect(\"mi_base.db\")\n",
    "cursor = conn.cursor()\n",
    "\n",
    "# Query: usuarios registrados en 2025.\n",
    "cursor.execute(\"\"\"\n",
    "SELECT nombre, email, fecha_registro\n",
    "FROM usuarios\n",
    "WHERE fecha_registro LIKE '2025%';\n",
    "\"\"\")\n",
    "\n",
    "# Convertir a DataFrame.\n",
    "rows = cursor.fetchall()\n",
    "columns = [desc[0] for desc in cursor.description]\n",
    "df_usuarios_2025 = pd.DataFrame(rows, columns=columns)\n",
    "\n",
    "# Mostrar resultado.\n",
    "print(df_usuarios_2025)\n",
    "\n",
    "conn.close()"
   ]
  },
  {
   "cell_type": "markdown",
   "id": "4eed23aa",
   "metadata": {},
   "source": [
    "Ejemplo 4"
   ]
  },
  {
   "cell_type": "code",
   "execution_count": null,
   "id": "8e5696c1",
   "metadata": {},
   "outputs": [],
   "source": [
    "# Últimas 10 órdenes con nombre y correo del usuario.\n",
    "\n",
    "# Conexión.\n",
    "conn = sqlite3.connect(\"mi_base.db\")\n",
    "cursor = conn.cursor()\n",
    "\n",
    "# Query: join de usuarios + órdenes (últimos 10).\n",
    "cursor.execute(\"\"\"\n",
    "SELECT u.nombre, u.email, o.producto, o.monto, o.fecha\n",
    "FROM ordenes o\n",
    "JOIN usuarios u ON o.usuario_id = u.id\n",
    "ORDER BY o.fecha DESC\n",
    "LIMIT 10;\n",
    "\"\"\")\n",
    "\n",
    "# Convertir a DataFrame.\n",
    "rows = cursor.fetchall()\n",
    "columns = [desc[0] for desc in cursor.description]\n",
    "df_ordenes_recientes = pd.DataFrame(rows, columns=columns)\n",
    "\n",
    "# Mostrar resultado.\n",
    "print(df_ordenes_recientes)\n",
    "\n",
    "conn.close()"
   ]
  }
 ],
 "metadata": {
  "kernelspec": {
   "display_name": "sonda_test_sql",
   "language": "python",
   "name": "python3"
  },
  "language_info": {
   "codemirror_mode": {
    "name": "ipython",
    "version": 3
   },
   "file_extension": ".py",
   "mimetype": "text/x-python",
   "name": "python",
   "nbconvert_exporter": "python",
   "pygments_lexer": "ipython3",
   "version": "3.12.8"
  }
 },
 "nbformat": 4,
 "nbformat_minor": 5
}
