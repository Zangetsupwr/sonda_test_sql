{
 "cells": [
  {
   "cell_type": "markdown",
   "id": "683a30f4",
   "metadata": {},
   "source": [
    "El dia de hoy aprenderemos a usar algunos entorno de SQL. Comenzaremos con sqlite.\n",
    "\n",
    "Para ello primero configuraremos nuestro entorno:\n",
    "\n",
    "1. Crear y clonar repositorio (crear readme y .gitignore)\n",
    "2. Instalar extensiones de python, jupiter y sqlite en visual studio code\n",
    "3. Crear un entorno virtual desde la terminal:\n",
    "    - Crear entorno virtual: python -m venv sonda_sqlite\n",
    "    - Activar entorno virtual: source sonda_sqlite/Scripts/activate\n",
    "    - Verificamos que hemos activado el entorno: which python\n",
    "    * Para desactivar el entorno: deactivate\n",
    "4. Actualizamos herramientas de python: python -m pip install --upgrade pip setuptools wheel\n",
    "5. Crear requirements e instalar requerimientos: pip install -r requirements.txt\n",
    "6. Seleccionar kernel en jupyter"
   ]
  },
  {
   "cell_type": "code",
   "execution_count": 1,
   "id": "3be00db9",
   "metadata": {},
   "outputs": [],
   "source": [
    "import sqlite3"
   ]
  },
  {
   "cell_type": "code",
   "execution_count": 2,
   "id": "0a2b08c7",
   "metadata": {},
   "outputs": [],
   "source": [
    "# Crea (o abre si ya existe) una base de datos llamada \"mi_base.db\".\n",
    "conn = sqlite3.connect(\"mi_base.db\")\n",
    "# Crea un cursor para ejecutar comandos SQL.\n",
    "cursor = conn.cursor()"
   ]
  },
  {
   "cell_type": "code",
   "execution_count": 3,
   "id": "ec83bfee",
   "metadata": {},
   "outputs": [],
   "source": [
    "# Tabla usuarios.\n",
    "cursor.execute(\"\"\"\n",
    "CREATE TABLE IF NOT EXISTS usuarios (\n",
    "    id INTEGER PRIMARY KEY AUTOINCREMENT,\n",
    "    nombre TEXT NOT NULL,\n",
    "    email TEXT UNIQUE NOT NULL,\n",
    "    fecha_registro TEXT\n",
    ");\n",
    "\"\"\")\n",
    "\n",
    "# Tabla ordenes.\n",
    "cursor.execute(\"\"\"\n",
    "CREATE TABLE IF NOT EXISTS ordenes (\n",
    "    id INTEGER PRIMARY KEY AUTOINCREMENT,\n",
    "    usuario_id INTEGER,\n",
    "    producto TEXT NOT NULL,\n",
    "    monto REAL NOT NULL,\n",
    "    fecha TEXT,\n",
    "    FOREIGN KEY (usuario_id) REFERENCES usuarios(id)\n",
    ");\n",
    "\"\"\")\n",
    "\n",
    "# Guardar cambios.\n",
    "conn.commit()"
   ]
  },
  {
   "cell_type": "code",
   "execution_count": 4,
   "id": "477d74d4",
   "metadata": {},
   "outputs": [],
   "source": [
    "# Insertar datos.\n",
    "cursor.execute(\"INSERT INTO usuarios (nombre, email, fecha_registro) VALUES (?, ?, ?)\", \n",
    "               (\"Ana Pérez\", \"ana@example.com\", \"2025-06-19\"))\n",
    "\n",
    "cursor.execute(\"INSERT INTO ordenes (usuario_id, producto, monto, fecha) VALUES (?, ?, ?, ?)\", \n",
    "               (1, \"Teclado mecánico\", 250.00, \"2025-06-19\"))\n",
    "\n",
    "conn.commit()"
   ]
  },
  {
   "cell_type": "code",
   "execution_count": 5,
   "id": "4d3308c7",
   "metadata": {},
   "outputs": [
    {
     "name": "stdout",
     "output_type": "stream",
     "text": [
      "[(1, 'Ana Pérez', 'ana@example.com', '2025-06-19')]\n"
     ]
    }
   ],
   "source": [
    "# Hacer query (busqueda).\n",
    "cursor.execute(\"SELECT * FROM usuarios\")\n",
    "print(cursor.fetchall())"
   ]
  },
  {
   "cell_type": "code",
   "execution_count": 6,
   "id": "e080c6f1",
   "metadata": {},
   "outputs": [
    {
     "name": "stdout",
     "output_type": "stream",
     "text": [
      "[(1, 1, 'Teclado mecánico', 250.0, '2025-06-19')]\n"
     ]
    }
   ],
   "source": [
    "# Hacer query (busqueda).\n",
    "cursor.execute(\"SELECT * FROM ordenes\")\n",
    "print(cursor.fetchall())"
   ]
  },
  {
   "cell_type": "code",
   "execution_count": null,
   "id": "e495e0f9",
   "metadata": {},
   "outputs": [],
   "source": [
    "# Cerrar conexion.\n",
    "conn.close()"
   ]
  },
  {
   "cell_type": "markdown",
   "id": "ff68daa1",
   "metadata": {},
   "source": []
  }
 ],
 "metadata": {
  "kernelspec": {
   "display_name": "sonda_test_sql",
   "language": "python",
   "name": "python3"
  },
  "language_info": {
   "codemirror_mode": {
    "name": "ipython",
    "version": 3
   },
   "file_extension": ".py",
   "mimetype": "text/x-python",
   "name": "python",
   "nbconvert_exporter": "python",
   "pygments_lexer": "ipython3",
   "version": "3.12.8"
  }
 },
 "nbformat": 4,
 "nbformat_minor": 5
}
